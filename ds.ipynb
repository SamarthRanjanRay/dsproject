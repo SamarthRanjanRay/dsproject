{
 "cells": [
  {
   "cell_type": "code",
   "execution_count": 1,
   "metadata": {},
   "outputs": [],
   "source": [
    "## importing packages\n",
    "import numpy as np\n",
    "import pandas as pd\n",
    "import matplotlib.pyplot as plt"
   ]
  },
  {
   "cell_type": "code",
   "execution_count": 2,
   "metadata": {},
   "outputs": [
    {
     "name": "stdout",
     "output_type": "stream",
     "text": [
      "  StationId                                     StationName  \\\n",
      "0     AP001                  Secretariat, Amaravati - APPCB   \n",
      "1     AP002  Anand Kala Kshetram, Rajamahendravaram - APPCB   \n",
      "2     AP003                      Tirumala, Tirupati - APPCB   \n",
      "3     AP004                 PWD Grounds, Vijayawada - APPCB   \n",
      "4     AP005          GVM Corporation, Visakhapatnam - APPCB   \n",
      "\n",
      "                City           State  \n",
      "0          Amaravati  Andhra Pradesh  \n",
      "1  Rajamahendravaram  Andhra Pradesh  \n",
      "2           Tirupati  Andhra Pradesh  \n",
      "3         Vijayawada  Andhra Pradesh  \n",
      "4      Visakhapatnam  Andhra Pradesh  \n",
      "  StationId        Date  PM2.5    PM10    NO    NO2    NOx    NH3    CO  \\\n",
      "0     AP001  2017-11-24  71.36  115.75  1.75  20.65  12.40  12.19  0.10   \n",
      "1     AP001  2017-11-25  81.40  124.50  1.44  20.50  12.08  10.72  0.12   \n",
      "2     AP001  2017-11-26  78.32  129.06  1.26  26.00  14.85  10.28  0.14   \n",
      "3     AP001  2017-11-27  88.76  135.32  6.60  30.85  21.77  12.91  0.11   \n",
      "4     AP001  2017-11-28  64.18  104.09  2.56  28.07  17.01  11.42  0.09   \n",
      "\n",
      "     SO2      O3  Benzene  Toluene  Xylene    AQI AQI_Bucket  \n",
      "0  10.76  109.26     0.17     5.92    0.10    NaN        NaN  \n",
      "1  15.24  127.09     0.20     6.50    0.06  184.0   Moderate  \n",
      "2  26.96  117.44     0.22     7.95    0.08  197.0   Moderate  \n",
      "3  33.59  111.81     0.29     7.63    0.12  198.0   Moderate  \n",
      "4  19.00  138.18     0.17     5.02    0.07  188.0   Moderate  \n",
      "  StationId        Date  PM2.5    PM10    NO    NO2    NOx    NH3    CO  \\\n",
      "0     AP001  2017-11-24  71.36  115.75  1.75  20.65  12.40  12.19  0.10   \n",
      "1     AP001  2017-11-25  81.40  124.50  1.44  20.50  12.08  10.72  0.12   \n",
      "2     AP001  2017-11-26  78.32  129.06  1.26  26.00  14.85  10.28  0.14   \n",
      "3     AP001  2017-11-27  88.76  135.32  6.60  30.85  21.77  12.91  0.11   \n",
      "4     AP001  2017-11-28  64.18  104.09  2.56  28.07  17.01  11.42  0.09   \n",
      "\n",
      "     SO2      O3  Benzene  Toluene  Xylene    AQI AQI_Bucket  \\\n",
      "0  10.76  109.26     0.17     5.92    0.10    NaN        NaN   \n",
      "1  15.24  127.09     0.20     6.50    0.06  184.0   Moderate   \n",
      "2  26.96  117.44     0.22     7.95    0.08  197.0   Moderate   \n",
      "3  33.59  111.81     0.29     7.63    0.12  198.0   Moderate   \n",
      "4  19.00  138.18     0.17     5.02    0.07  188.0   Moderate   \n",
      "\n",
      "                      StationName       City           State  \n",
      "0  Secretariat, Amaravati - APPCB  Amaravati  Andhra Pradesh  \n",
      "1  Secretariat, Amaravati - APPCB  Amaravati  Andhra Pradesh  \n",
      "2  Secretariat, Amaravati - APPCB  Amaravati  Andhra Pradesh  \n",
      "3  Secretariat, Amaravati - APPCB  Amaravati  Andhra Pradesh  \n",
      "4  Secretariat, Amaravati - APPCB  Amaravati  Andhra Pradesh  \n"
     ]
    }
   ],
   "source": [
    "stations_labels = pd.read_csv(\"D:\\ds\\data\\stations_label_city.csv\")\n",
    "print(stations_labels.head())\n",
    "df = pd.read_csv(\"D:\\ds\\data\\station_daily.csv\")\n",
    "print(df.head())\n",
    "df = df.merge(stations_labels, on=\"StationId\")\n",
    "print(df.head())"
   ]
  },
  {
   "cell_type": "code",
   "execution_count": 3,
   "metadata": {},
   "outputs": [
    {
     "name": "stdout",
     "output_type": "stream",
     "text": [
      "           StationId        Date  PM2.5    PM10     NO    NO2    NOx    NH3  \\\n",
      "Dates                                                                         \n",
      "2020-03-01     DL001  2020-03-01  43.65   76.92   2.86  35.12  21.01  24.57   \n",
      "2020-03-02     DL001  2020-03-02  87.68  178.92  42.14  49.19  60.51  27.15   \n",
      "2020-03-03     DL001  2020-03-03  97.69  193.17  40.67  44.32  56.75  27.28   \n",
      "2020-03-04     DL001  2020-03-04  91.69  154.94  15.48  40.98  34.41  27.92   \n",
      "2020-03-05     DL001  2020-03-05  28.72   43.58   2.82  30.40  18.48  25.07   \n",
      "\n",
      "              CO    SO2     O3  Benzene  Toluene  Xylene    AQI    AQI_Bucket  \\\n",
      "Dates                                                                           \n",
      "2020-03-01  0.67  10.93  32.39     0.29     2.16    0.01   88.0  Satisfactory   \n",
      "2020-03-02  1.29  15.83  20.75     0.52     4.27    0.12  154.0      Moderate   \n",
      "2020-03-03  1.06  14.73  23.36     0.56     9.31    0.53  234.0          Poor   \n",
      "2020-03-04  1.03   9.40  16.59     0.54     2.14    0.03  209.0          Poor   \n",
      "2020-03-05  0.66  11.39  19.85     0.14     2.02    0.00   79.0  Satisfactory   \n",
      "\n",
      "                     StationName   City  State  \n",
      "Dates                                           \n",
      "2020-03-01  Alipur, Delhi - DPCC  Delhi  Delhi  \n",
      "2020-03-02  Alipur, Delhi - DPCC  Delhi  Delhi  \n",
      "2020-03-03  Alipur, Delhi - DPCC  Delhi  Delhi  \n",
      "2020-03-04  Alipur, Delhi - DPCC  Delhi  Delhi  \n",
      "2020-03-05  Alipur, Delhi - DPCC  Delhi  Delhi  \n",
      "           StationId        Date    AQI    AQI_Bucket   City  State\n",
      "Dates                                                              \n",
      "2020-03-01     DL001  2020-03-01   88.0  Satisfactory  Delhi  Delhi\n",
      "2020-03-02     DL001  2020-03-02  154.0      Moderate  Delhi  Delhi\n",
      "2020-03-03     DL001  2020-03-03  234.0          Poor  Delhi  Delhi\n",
      "2020-03-04     DL001  2020-03-04  209.0          Poor  Delhi  Delhi\n",
      "2020-03-05     DL001  2020-03-05   79.0  Satisfactory  Delhi  Delhi\n"
     ]
    }
   ],
   "source": [
    "\n",
    "df = df[df.StationId.isin([\"DL001\"])]\n",
    "df.sort_values([\"StationId\", \"Date\"], inplace = True)\n",
    "df[\"Dates\"] = pd.to_datetime(df['Date'])\n",
    "df.Date = df.Date.astype(str)\n",
    "df = df.set_index(['Dates'])\n",
    "df = df.loc[\"2020-03-01\":\"2020-05-31\"]\n",
    "\n",
    "print(df.head())\n",
    "extras = df.columns[2:14]\n",
    "df.drop(extras, axis=1, inplace=True)\n",
    "df.drop([\"StationName\"], axis=1, inplace=True)\n",
    "print(df.head())"
   ]
  },
  {
   "cell_type": "code",
   "execution_count": 4,
   "metadata": {},
   "outputs": [
    {
     "data": {
      "image/png": "[encoded data removed]",
      "text/plain": [
       "<Figure size 432x288 with 1 Axes>"
      ]
     },
     "metadata": {
      "needs_background": "light"
     },
     "output_type": "display_data"
    }
   ],
   "source": [
    "\n",
    "plt.scatter(df.Date, df.AQI)\n",
    "plt.show()"
   ]
  },
  {
   "cell_type": "code",
   "execution_count": 5,
   "metadata": {},
   "outputs": [
    {
     "name": "stdout",
     "output_type": "stream",
     "text": [
      "  Date_reported Country_code      Country WHO_region  New_cases  \\\n",
      "0    2020-01-03           AF  Afghanistan       EMRO          0   \n",
      "1    2020-01-04           AF  Afghanistan       EMRO          0   \n",
      "2    2020-01-05           AF  Afghanistan       EMRO          0   \n",
      "3    2020-01-06           AF  Afghanistan       EMRO          0   \n",
      "4    2020-01-07           AF  Afghanistan       EMRO          0   \n",
      "\n",
      "   Cumulative_cases  New_deaths  Cumulative_deaths  \n",
      "0                 0           0                  0  \n",
      "1                 0           0                  0  \n",
      "2                 0           0                  0  \n",
      "3                 0           0                  0  \n",
      "4                 0           0                  0  \n",
      "           Date_reported  New_cases\n",
      "Date                               \n",
      "2020-03-01    2020-03-01          0\n",
      "2020-03-02    2020-03-02         -2\n",
      "2020-03-03    2020-03-03          4\n",
      "2020-03-04    2020-03-04         19\n",
      "2020-03-05    2020-03-05          1\n"
     ]
    }
   ],
   "source": [
    "covid_data = pd.read_csv(\"D:\\ds\\data\\who-covid-19.csv\")\n",
    "print(covid_data.head())\n",
    "\n",
    "covid_data = covid_data.loc[covid_data['Country'] == \"India\"]\n",
    "covid_data[\"Date\"] = pd.to_datetime(covid_data['Date_reported'])\n",
    "covid_data.Date_reported = covid_data.Date_reported.astype(str)\n",
    "covid_data = covid_data.set_index(['Date'])\n",
    "extras = covid_data.columns[1:4]\n",
    "covid_data.drop(extras, axis=1, inplace=True)\n",
    "extras = covid_data.columns[2:5]\n",
    "covid_data.drop(extras, axis=1, inplace=True)\n",
    "covid_data = covid_data.loc[\"2020-03-01\":\"2020-05-31\"]\n",
    "print(covid_data.head())"
   ]
  },
  {
   "cell_type": "code",
   "execution_count": 6,
   "metadata": {},
   "outputs": [
    {
     "data": {
      "image/png": "[encoded data removed]",
      "text/plain": [
       "<Figure size 432x288 with 1 Axes>"
      ]
     },
     "metadata": {
      "needs_background": "light"
     },
     "output_type": "display_data"
    }
   ],
   "source": [
    "plt.plot(covid_data.index, covid_data.New_cases)\n",
    "plt.show()"
   ]
  },
  {
   "cell_type": "code",
   "execution_count": 7,
   "metadata": {},
   "outputs": [
    {
     "data": {
      "image/png": "[encoded data removed]",
      "text/plain": [
       "<Figure size 432x288 with 1 Axes>"
      ]
     },
     "metadata": {
      "needs_background": "light"
     },
     "output_type": "display_data"
    }
   ],
   "source": [
    "plt.scatter(covid_data.New_cases, df.AQI)\n",
    "plt.show()"
   ]
  },
  {
   "cell_type": "code",
   "execution_count": 8,
   "metadata": {},
   "outputs": [
    {
     "name": "stdout",
     "output_type": "stream",
     "text": [
      "<class 'pandas.core.frame.DataFrame'>\n",
      "DatetimeIndex: 92 entries, 2020-03-01 to 2020-05-31\n",
      "Data columns (total 6 columns):\n",
      " #   Column      Non-Null Count  Dtype  \n",
      "---  ------      --------------  -----  \n",
      " 0   StationId   92 non-null     object \n",
      " 1   Date        92 non-null     object \n",
      " 2   AQI         92 non-null     float64\n",
      " 3   AQI_Bucket  92 non-null     object \n",
      " 4   City        92 non-null     object \n",
      " 5   State       92 non-null     object \n",
      "dtypes: float64(1), object(5)\n",
      "memory usage: 3.2+ KB\n"
     ]
    },
    {
     "data": {
      "text/plain": [
       "StationId      1\n",
       "Date          92\n",
       "AQI           72\n",
       "AQI_Bucket     5\n",
       "City           1\n",
       "State          1\n",
       "dtype: int64"
      ]
     },
     "execution_count": 8,
     "metadata": {},
     "output_type": "execute_result"
    }
   ],
   "source": [
    "df.dtypes\n",
    "df.info()\n",
    "df.nunique()\n"
   ]
  },
  {
   "cell_type": "code",
   "execution_count": 9,
   "metadata": {},
   "outputs": [
    {
     "name": "stdout",
     "output_type": "stream",
     "text": [
      "<class 'pandas.core.frame.DataFrame'>\n",
      "DatetimeIndex: 92 entries, 2020-03-01 to 2020-05-31\n",
      "Data columns (total 2 columns):\n",
      " #   Column         Non-Null Count  Dtype \n",
      "---  ------         --------------  ----- \n",
      " 0   Date_reported  92 non-null     object\n",
      " 1   New_cases      92 non-null     int64 \n",
      "dtypes: int64(1), object(1)\n",
      "memory usage: 1.8+ KB\n"
     ]
    },
    {
     "data": {
      "text/plain": [
       "Date_reported    92\n",
       "New_cases        89\n",
       "dtype: int64"
      ]
     },
     "execution_count": 9,
     "metadata": {},
     "output_type": "execute_result"
    }
   ],
   "source": [
    "covid_data.dtypes\n",
    "covid_data.info()\n",
    "covid_data.nunique()\n"
   ]
  },
  {
   "cell_type": "code",
   "execution_count": 26,
   "metadata": {},
   "outputs": [
    {
     "data": {
      "image/png": "[encoded data removed]",
      "text/plain": [
       "<Figure size 432x288 with 1 Axes>"
      ]
     },
     "metadata": {},
     "output_type": "display_data"
    }
   ],
   "source": [
    "bucket = df.AQI_Bucket.unique()\n",
    "list=[]\n",
    "for x in bucket:\n",
    "    list.append(len(df[df['AQI_Bucket']==x].index))\n",
    "\n",
    "plt.pie(list, labels=bucket)\n",
    "plt.title(\"No of days for each bucket\")\n",
    "plt.show()"
   ]
  },
  {
   "cell_type": "code",
   "execution_count": null,
   "metadata": {},
   "outputs": [],
   "source": []
  }
 ],
 "metadata": {
  "kernelspec": {
   "display_name": "Python 3",
   "language": "python",
   "name": "python3"
  },
  "language_info": {
   "codemirror_mode": {
    "name": "ipython",
    "version": 3
   },
   "file_extension": ".py",
   "mimetype": "text/x-python",
   "name": "python",
   "nbconvert_exporter": "python",
   "pygments_lexer": "ipython3",
   "version": "3.8.5"
  }
 },
 "nbformat": 4,
 "nbformat_minor": 4
}
